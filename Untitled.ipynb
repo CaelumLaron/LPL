{
 "cells": [
  {
   "cell_type": "markdown",
   "metadata": {},
   "source": [
    "## Lista de Exercícios de Linguagens de Programação I"
   ]
  },
  {
   "cell_type": "markdown",
   "metadata": {},
   "source": [
    "1) Defina os seguintes conceitos como são compreendidos no paradigma funcional: (a) funçõesanônimas, (b) funções de primeira classe, (c) funções de alta ordem, (d) funções recursivas,(e) funções puras, (f) avaliação preguiçosa, (g) iteradores e (h) geradores ou streams."
   ]
  },
  {
   "cell_type": "code",
   "execution_count": null,
   "metadata": {},
   "outputs": [],
   "source": []
  },
  {
   "cell_type": "markdown",
   "metadata": {},
   "source": [
    "2) Usando LCs, defina a função enc_consonantal(palavra) que retorna o número de encontros consonantais em palavra. Considere um encontro consonantal a ocorrência de, pelo menos, duas consoantes em sequência. Ex: enc_consonantal('teste') = 1; enc_consonantal('banana') = 0."
   ]
  },
  {
   "cell_type": "code",
   "execution_count": 2,
   "metadata": {},
   "outputs": [
    {
     "data": {
      "text/plain": [
       "(1, 0)"
      ]
     },
     "execution_count": 2,
     "metadata": {},
     "output_type": "execute_result"
    }
   ],
   "source": [
    "enc_consonantal = lambda s: 0 if len(s) < 2 else (s[0:2][0] not in 'aeiou' and s[0:2][1] not in 'aeiou') + enc_consonantal(s[1:])\n",
    "enc_consonantal('teste'), enc_consonantal('banana')"
   ]
  },
  {
   "cell_type": "markdown",
   "metadata": {},
   "source": [
    "3) Defina a função maisQueKEnc(string) que retorna as palavras em string com mais que k encontros consonantais. Ex: maisQueKEnc('esse eh um trabalhinho mequetrefe', 1) = ['trabalhinho']. Dica: string.split() retorna uma lista onde cada elemento é uma palavra de\n",
    "string."
   ]
  },
  {
   "cell_type": "code",
   "execution_count": 3,
   "metadata": {},
   "outputs": [
    {
     "data": {
      "text/plain": [
       "['trabalhinho']"
      ]
     },
     "execution_count": 3,
     "metadata": {},
     "output_type": "execute_result"
    }
   ],
   "source": [
    "maisQueKEnc = lambda s, k: [i for i in s.split(' ') if enc_consonantal(i) > k]\n",
    "maisQueKEnc('esse eh um trabalhinho mequetrefe', 1)"
   ]
  },
  {
   "cell_type": "markdown",
   "metadata": {},
   "source": [
    "4) Implemente a função pelo_menos_k que tem como parâmetros um limiar k, uma propriedade (descrita como uma função anônima) e uma lista e retorna True se pelo menos k elementos na lista têm a propriedade. Ex: pelo_menos_k(len(l)/2, lambda k:k%2==0, [12,13, 15, 17, 14])."
   ]
  },
  {
   "cell_type": "code",
   "execution_count": 9,
   "metadata": {},
   "outputs": [
    {
     "data": {
      "text/plain": [
       "True"
      ]
     },
     "execution_count": 9,
     "metadata": {},
     "output_type": "execute_result"
    }
   ],
   "source": [
    "pelo_menos_k = lambda k, f, l: True if sum(f(i) for i in l) >= k else False\n",
    "pelo_menos_k(len([12,13,15,17,14])//2, lambda k: k%2==0, [12,13,15,17,14])"
   ]
  },
  {
   "cell_type": "markdown",
   "metadata": {},
   "source": [
    "5) Resolva os seguintes problemas em Python, relacionados com o jogo de blackjack, usando o paradigma funcional"
   ]
  },
  {
   "cell_type": "markdown",
   "metadata": {},
   "source": [
    "a) Dadas as listas naipes = ['p', 'o', 'c', 'e'] (paus, ouros, copas e espada) e ranks = ['2', '3', '4', '5', '6', '7', '8', '9', '10', 'J', 'Q', 'K', 'A'], crie uma lista que represente um baralho com 52 cartas representadas como tuplas, usando uma LC. Ex: [('2', 'p'), ('2', 'o'), ('2', 'c'), ('2', 'e'), ('3', 'p'), ('3', 'o'),...,('A', 'p'), ('A', 'o'), ('A', 'c'), ('A', 'e')]."
   ]
  },
  {
   "cell_type": "code",
   "execution_count": 12,
   "metadata": {},
   "outputs": [
    {
     "data": {
      "text/plain": [
       "[('2', 'p'),\n",
       " ('3', 'p'),\n",
       " ('4', 'p'),\n",
       " ('5', 'p'),\n",
       " ('6', 'p'),\n",
       " ('7', 'p'),\n",
       " ('8', 'p'),\n",
       " ('9', 'p'),\n",
       " ('10', 'p'),\n",
       " ('J', 'p'),\n",
       " ('Q', 'p'),\n",
       " ('K', 'p'),\n",
       " ('A', 'p'),\n",
       " ('2', 'o'),\n",
       " ('3', 'o'),\n",
       " ('4', 'o'),\n",
       " ('5', 'o'),\n",
       " ('6', 'o'),\n",
       " ('7', 'o'),\n",
       " ('8', 'o'),\n",
       " ('9', 'o'),\n",
       " ('10', 'o'),\n",
       " ('J', 'o'),\n",
       " ('Q', 'o'),\n",
       " ('K', 'o'),\n",
       " ('A', 'o'),\n",
       " ('2', 'c'),\n",
       " ('3', 'c'),\n",
       " ('4', 'c'),\n",
       " ('5', 'c'),\n",
       " ('6', 'c'),\n",
       " ('7', 'c'),\n",
       " ('8', 'c'),\n",
       " ('9', 'c'),\n",
       " ('10', 'c'),\n",
       " ('J', 'c'),\n",
       " ('Q', 'c'),\n",
       " ('K', 'c'),\n",
       " ('A', 'c'),\n",
       " ('2', 'e'),\n",
       " ('3', 'e'),\n",
       " ('4', 'e'),\n",
       " ('5', 'e'),\n",
       " ('6', 'e'),\n",
       " ('7', 'e'),\n",
       " ('8', 'e'),\n",
       " ('9', 'e'),\n",
       " ('10', 'e'),\n",
       " ('J', 'e'),\n",
       " ('Q', 'e'),\n",
       " ('K', 'e'),\n",
       " ('A', 'e')]"
      ]
     },
     "execution_count": 12,
     "metadata": {},
     "output_type": "execute_result"
    }
   ],
   "source": [
    "baralho = lambda naipes, ranks: [(j, i) for i in naipes for j in ranks]\n",
    "baralho(['p', 'o', 'c', 'e'], ['2', '3', '4', '5', '6', '7', '8', '9', '10', 'J', 'Q', 'K', 'A'])"
   ]
  },
  {
   "cell_type": "markdown",
   "metadata": {},
   "source": [
    "b) Crie uma função que dada uma lista l e um valor k, retorne a lista l sem o k-ésimo elemento. Ex: semElementoK([1,2,3], 1) = [1, 3]."
   ]
  },
  {
   "cell_type": "code",
   "execution_count": 13,
   "metadata": {},
   "outputs": [
    {
     "data": {
      "text/plain": [
       "[1, 3]"
      ]
     },
     "execution_count": 13,
     "metadata": {},
     "output_type": "execute_result"
    }
   ],
   "source": [
    "semElementoK = lambda l, k: [l[i] for i in range(len(l)) if i!=k]\n",
    "semElementoK([1,2,3],1)"
   ]
  },
  {
   "cell_type": "markdown",
   "metadata": {},
   "source": [
    "c) Crie uma função que dada a lista, retorne uma versão embaralhada da mesma. Ex: dequeEmbaralhado([1, 2, 3, 4, 5]) = [2, 3, 5, 1, 4], usando recursão e a função semElementoK. DIca: você pode criar uma lista embaralhada usando uma lista auxiliar. Basta tirar um elemento aleatório da primeira e colocá-lo na segunda. A segunda lista será uma versão embaralhada da primeira. Para gerar números aleatórios, utilize a função randint do pacote random."
   ]
  },
  {
   "cell_type": "code",
   "execution_count": null,
   "metadata": {},
   "outputs": [],
   "source": [
    "from random import randint\n",
    "dequeEmbaralhado = lambda l:  if len(l) > 0 else []"
   ]
  }
 ],
 "metadata": {
  "kernelspec": {
   "display_name": "Python 3",
   "language": "python",
   "name": "python3"
  },
  "language_info": {
   "codemirror_mode": {
    "name": "ipython",
    "version": 3
   },
   "file_extension": ".py",
   "mimetype": "text/x-python",
   "name": "python",
   "nbconvert_exporter": "python",
   "pygments_lexer": "ipython3",
   "version": "3.5.2"
  }
 },
 "nbformat": 4,
 "nbformat_minor": 2
}
