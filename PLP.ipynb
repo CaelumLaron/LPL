{
 "cells": [
  {
   "cell_type": "markdown",
   "metadata": {},
   "source": [
    "## Lista de Exercícios de Linguagens de Programação I"
   ]
  },
  {
   "cell_type": "markdown",
   "metadata": {},
   "source": [
    "1) Defina os seguintes conceitos como são compreendidos no paradigma funcional: (a) funçõesanônimas, (b) funções de primeira classe, (c) funções de alta ordem, (d) funções recursivas,(e) funções puras, (f) avaliação preguiçosa, (g) iteradores e (h) geradores ou streams."
   ]
  },
  {
   "cell_type": "markdown",
   "metadata": {},
   "source": []
  },
  {
   "cell_type": "markdown",
   "metadata": {},
   "source": [
    "2) Usando LCs, defina a função enc_consonantal(palavra) que retorna o número de encontros consonantais em palavra. Considere um encontro consonantal a ocorrência de, pelo menos, duas consoantes em sequência. Ex: enc_consonantal('teste') = 1; enc_consonantal('banana') = 0."
   ]
  },
  {
   "cell_type": "code",
   "execution_count": 2,
   "metadata": {},
   "outputs": [
    {
     "data": {
      "text/plain": [
       "(1, 0)"
      ]
     },
     "execution_count": 2,
     "metadata": {},
     "output_type": "execute_result"
    }
   ],
   "source": [
    "enc_consonantal = lambda s: 0 if len(s) < 2 else (s[0:2][0] not in 'aeiou' and s[0:2][1] not in 'aeiou') + enc_consonantal(s[1:])\n",
    "enc_consonantal('teste'), enc_consonantal('banana')"
   ]
  },
  {
   "cell_type": "markdown",
   "metadata": {},
   "source": [
    "3) Defina a função maisQueKEnc(string) que retorna as palavras em string com mais que k encontros consonantais. Ex: maisQueKEnc('esse eh um trabalhinho mequetrefe', 1) = ['trabalhinho']. Dica: string.split() retorna uma lista onde cada elemento é uma palavra de\n",
    "string."
   ]
  },
  {
   "cell_type": "code",
   "execution_count": 3,
   "metadata": {},
   "outputs": [
    {
     "data": {
      "text/plain": [
       "['trabalhinho']"
      ]
     },
     "execution_count": 3,
     "metadata": {},
     "output_type": "execute_result"
    }
   ],
   "source": [
    "maisQueKEnc = lambda s, k: [i for i in s.split(' ') if enc_consonantal(i) > k]\n",
    "maisQueKEnc('esse eh um trabalhinho mequetrefe', 1)"
   ]
  },
  {
   "cell_type": "markdown",
   "metadata": {},
   "source": [
    "4) Implemente a função pelo_menos_k que tem como parâmetros um limiar k, uma propriedade (descrita como uma função anônima) e uma lista e retorna True se pelo menos k elementos na lista têm a propriedade. Ex: pelo_menos_k(len(l)/2, lambda k:k%2==0, [12,13, 15, 17, 14])."
   ]
  },
  {
   "cell_type": "code",
   "execution_count": 9,
   "metadata": {},
   "outputs": [
    {
     "data": {
      "text/plain": [
       "True"
      ]
     },
     "execution_count": 9,
     "metadata": {},
     "output_type": "execute_result"
    }
   ],
   "source": [
    "pelo_menos_k = lambda k, f, l: True if sum(f(i) for i in l) >= k else False\n",
    "pelo_menos_k(len([12,13,15,17,14])//2, lambda k: k%2==0, [12,13,15,17,14])"
   ]
  },
  {
   "cell_type": "markdown",
   "metadata": {},
   "source": [
    "5) Resolva os seguintes problemas em Python, relacionados com o jogo de blackjack, usando o paradigma funcional"
   ]
  },
  {
   "cell_type": "markdown",
   "metadata": {},
   "source": [
    "a) Dadas as listas naipes = ['p', 'o', 'c', 'e'] (paus, ouros, copas e espada) e ranks = ['2', '3', '4', '5', '6', '7', '8', '9', '10', 'J', 'Q', 'K', 'A'], crie uma lista que represente um baralho com 52 cartas representadas como tuplas, usando uma LC. Ex: [('2', 'p'), ('2', 'o'), ('2', 'c'), ('2', 'e'), ('3', 'p'), ('3', 'o'),...,('A', 'p'), ('A', 'o'), ('A', 'c'), ('A', 'e')]."
   ]
  },
  {
   "cell_type": "code",
   "execution_count": 12,
   "metadata": {},
   "outputs": [
    {
     "data": {
      "text/plain": [
       "[('2', 'p'),\n",
       " ('3', 'p'),\n",
       " ('4', 'p'),\n",
       " ('5', 'p'),\n",
       " ('6', 'p'),\n",
       " ('7', 'p'),\n",
       " ('8', 'p'),\n",
       " ('9', 'p'),\n",
       " ('10', 'p'),\n",
       " ('J', 'p'),\n",
       " ('Q', 'p'),\n",
       " ('K', 'p'),\n",
       " ('A', 'p'),\n",
       " ('2', 'o'),\n",
       " ('3', 'o'),\n",
       " ('4', 'o'),\n",
       " ('5', 'o'),\n",
       " ('6', 'o'),\n",
       " ('7', 'o'),\n",
       " ('8', 'o'),\n",
       " ('9', 'o'),\n",
       " ('10', 'o'),\n",
       " ('J', 'o'),\n",
       " ('Q', 'o'),\n",
       " ('K', 'o'),\n",
       " ('A', 'o'),\n",
       " ('2', 'c'),\n",
       " ('3', 'c'),\n",
       " ('4', 'c'),\n",
       " ('5', 'c'),\n",
       " ('6', 'c'),\n",
       " ('7', 'c'),\n",
       " ('8', 'c'),\n",
       " ('9', 'c'),\n",
       " ('10', 'c'),\n",
       " ('J', 'c'),\n",
       " ('Q', 'c'),\n",
       " ('K', 'c'),\n",
       " ('A', 'c'),\n",
       " ('2', 'e'),\n",
       " ('3', 'e'),\n",
       " ('4', 'e'),\n",
       " ('5', 'e'),\n",
       " ('6', 'e'),\n",
       " ('7', 'e'),\n",
       " ('8', 'e'),\n",
       " ('9', 'e'),\n",
       " ('10', 'e'),\n",
       " ('J', 'e'),\n",
       " ('Q', 'e'),\n",
       " ('K', 'e'),\n",
       " ('A', 'e')]"
      ]
     },
     "execution_count": 12,
     "metadata": {},
     "output_type": "execute_result"
    }
   ],
   "source": [
    "baralho = lambda naipes, ranks: [(j, i) for i in naipes for j in ranks]\n",
    "baralho(['p', 'o', 'c', 'e'], ['2', '3', '4', '5', '6', '7', '8', '9', '10', 'J', 'Q', 'K', 'A'])"
   ]
  },
  {
   "cell_type": "markdown",
   "metadata": {},
   "source": [
    "b) Crie uma função que dada uma lista l e um valor k, retorne a lista l sem o k-ésimo elemento. Ex: semElementoK([1,2,3], 1) = [1, 3]."
   ]
  },
  {
   "cell_type": "code",
   "execution_count": 5,
   "metadata": {},
   "outputs": [
    {
     "data": {
      "text/plain": [
       "[1, 3]"
      ]
     },
     "execution_count": 5,
     "metadata": {},
     "output_type": "execute_result"
    }
   ],
   "source": [
    "semElementoK = lambda l, k: [l[i] for i in range(len(l)) if i!=k]\n",
    "semElementoK([1,2,3],1)"
   ]
  },
  {
   "cell_type": "markdown",
   "metadata": {},
   "source": [
    "c) Crie uma função que dada a lista, retorne uma versão embaralhada da mesma. Ex: dequeEmbaralhado([1, 2, 3, 4, 5]) = [2, 3, 5, 1, 4], usando recursão e a função semElementoK. DIca: você pode criar uma lista embaralhada usando uma lista auxiliar. Basta tirar um elemento aleatório da primeira e colocá-lo na segunda. A segunda lista será uma versão embaralhada da primeira. Para gerar números aleatórios, utilize a função randint do pacote random."
   ]
  },
  {
   "cell_type": "code",
   "execution_count": 10,
   "metadata": {},
   "outputs": [
    {
     "data": {
      "text/plain": [
       "[3, 1, 2, 5, 4]"
      ]
     },
     "execution_count": 10,
     "metadata": {},
     "output_type": "execute_result"
    }
   ],
   "source": [
    "from random import randint\n",
    "dequeEmbaralhado = lambda l: (lambda x = randint(0, len(l)-1): [l[x]] + dequeEmbaralhado(semElementoK(l, x)))() if l else []\n",
    "dequeEmbaralhado([1,2,3,4,5])"
   ]
  },
  {
   "cell_type": "markdown",
   "metadata": {},
   "source": [
    "d) Uma mão é uma sequência de cartas. Escreva uma função que, dada uma sequência de cartas na forma de uma lista, produza uma string correspondente à lista de cartas. Exemplo: lista([('J','c'),('5','p'),('10','o')]) = 'Jc 5p 10o'."
   ]
  },
  {
   "cell_type": "code",
   "execution_count": 25,
   "metadata": {},
   "outputs": [
    {
     "data": {
      "text/plain": [
       "'Jc 5p 10o'"
      ]
     },
     "execution_count": 25,
     "metadata": {},
     "output_type": "execute_result"
    }
   ],
   "source": [
    "lista = lambda l: l[0][0] + l[0][1] if len(l) == 1 else l[0][0] + l[0][1] + ' ' + lista(l[1:])\n",
    "lista([('J', 'c'), ('5', 'p'), ('10', 'o')])"
   ]
  },
  {
   "cell_type": "markdown",
   "metadata": {},
   "source": [
    "e) Escreva uma função para avaliar uma mão de cartas no jogo blackjack. Neste jogo, as cartas são avaliadas como segue. Rei (K), rainha (Q) e valete (J) valem 10 pontos cada. As cartas 2 a 10 valem seus valores de face (ou seja, a carta 7 vale 7 pontos). A carta Ás (A) vale 1 ou 11 pontos. O valor da mão corresponde à soma dos valores das cartas. Inicialmente, todos os ases na mão valem 11 pontos, cada. Caso a soma dos valores da mão seja maior que 21, todos os ases são avaliados como 1 ponto, cada. Exs: valorMao([('J','c'), ('5','p'), ('10','o')]) = 25; valorMao([('A','c'),('Q','p')]) = 21; valorMao([('A','c'), ('A','p'), ('A','o')]) = 3;"
   ]
  },
  {
   "cell_type": "code",
   "execution_count": 24,
   "metadata": {},
   "outputs": [
    {
     "name": "stdout",
     "output_type": "stream",
     "text": [
      "25\n",
      "21\n",
      "3\n"
     ]
    }
   ],
   "source": [
    "valorMao = lambda l: sum({'2':2,'3':3,'4':4,'5':5,'6':6,'7':7,'8':8,'9':9,'10':10,'J':10,'Q':10,'K':10,'A':11}[i[0]] for i in  l) if sum({'2':2,'3':3,'4':4,'5':5,'6':6,'7':7,'8':8,'9':9,'10':10,'J':10,'Q':10,'K':10,'A':11}[i[0]] for i in  l) <= 21 else sum({'2':2,'3':3,'4':4,'5':5,'6':6,'7':7,'8':8,'9':9,'10':10,'J':10,'Q':10,'K':10,'A':1}[i[0]] for i in  l) \n",
    "print(valorMao([('J','c'), ('5','p'), ('10','o')]))\n",
    "print(valorMao([('A','c'),('Q','p')]))\n",
    "print(valorMao([('A','c'), ('A','p'), ('A','o')]))"
   ]
  },
  {
   "cell_type": "markdown",
   "metadata": {},
   "source": [
    "f) Uma das formas do jogo de blackjack terminar é o usuário ter uma mão com mais de 21 pontos. Crie a função fimJogo(mao) que retorna True caso isso ocorra. Exs: fimJogo([('J','c'), ('5','p'), ('10','o')]) = True;"
   ]
  },
  {
   "cell_type": "code",
   "execution_count": 27,
   "metadata": {},
   "outputs": [
    {
     "data": {
      "text/plain": [
       "True"
      ]
     },
     "execution_count": 27,
     "metadata": {},
     "output_type": "execute_result"
    }
   ],
   "source": [
    "fimJogo = lambda l: True if valorMao(l) > 21 else False\n",
    "fimJogo([('J','c'), ('5','p'), ('10','o')])"
   ]
  },
  {
   "cell_type": "markdown",
   "metadata": {},
   "source": [
    "g) No jogo de blackjack, o adversário do jogador é a mesa (ou a banca). Entre os dois, vence aquele que alcançar o maior número de pontos, desde que menor ou igual a 21. Em caso de empate, vence a mesa, bem como no caso em que ambos excedem os 21 pontos. Escreva a função vencedor(maoJogador, maoMesa) que retorna uma string indicando quem venceu o jogo: 'jogador' ou 'mesa'. Ex: vencedor([('10','e'), ('K','p')],[('6','p'), ('8','o'), ('A','e'), ('6','e')]) = 'mesa';"
   ]
  },
  {
   "cell_type": "code",
   "execution_count": 30,
   "metadata": {},
   "outputs": [
    {
     "data": {
      "text/plain": [
       "'mesa'"
      ]
     },
     "execution_count": 30,
     "metadata": {},
     "output_type": "execute_result"
    }
   ],
   "source": [
    "vencedor = lambda v,u: 'jogador' if not fimJogo(v) and valorMao(v) > valorMao(u) and not fimJogo(u) else 'mesa'\n",
    "vencedor([('10','e'), ('K','p')],[('6','p'), ('8','o'), ('A','e'), ('6','e')])"
   ]
  },
  {
   "cell_type": "markdown",
   "metadata": {},
   "source": [
    "h) Descreva a função descartar que, dada uma mão e um deque, retorna a mão acrescida da primeira carta do deque e o deque, sem aquela carta. Ex: descartar([('10','e'),('K','p')], [('6','p'), ('8','o'), ('A','e'), ('6','e')]) = ([('10','e'),('K','p'), ('6','p')], [('8','o'), ('A','e'), ('6','e')])."
   ]
  },
  {
   "cell_type": "code",
   "execution_count": 33,
   "metadata": {},
   "outputs": [
    {
     "data": {
      "text/plain": [
       "([('10', 'e'), ('K', 'p'), ('6', 'p')], [('8', 'o'), ('A', 'e'), ('6', 'e')])"
      ]
     },
     "execution_count": 33,
     "metadata": {},
     "output_type": "execute_result"
    }
   ],
   "source": [
    "descartar = lambda m,d: (m + [d[0]], d[1:])\n",
    "descartar([('10','e'),('K','p')], [('6','p'), ('8','o'), ('A','e'), ('6','e')])"
   ]
  },
  {
   "cell_type": "markdown",
   "metadata": {},
   "source": [
    "i) Descreva a função maoMesa(deque) que, dado um deque, retira dele cartas até que o valor da mão da mesa seja maior que 16. Use recursão. Ex: maoMesa([('10','e'),('K','p'), [('6','p'), ('8','o'), ('A','e'), ('6','e')]) =[('10','e'),('K','p')]."
   ]
  },
  {
   "cell_type": "code",
   "execution_count": 43,
   "metadata": {},
   "outputs": [
    {
     "data": {
      "text/plain": [
       "[('10', 'e'), ('K', 'p')]"
      ]
     },
     "execution_count": 43,
     "metadata": {},
     "output_type": "execute_result"
    }
   ],
   "source": [
    "maoMesa = lambda l, m=[]: maoMesa(l[1:], m + [l[0]]) if valorMao(m) < 16 else m\n",
    "maoMesa([('10','e'),('K','p'),('6','p'), ('8','o'), ('A','e'), ('6','e')]) "
   ]
  },
  {
   "cell_type": "markdown",
   "metadata": {},
   "source": [
    "j) No jogo de blackjack, o jogador aposta com a mesa pra ver quem alcança o valor mais próximo de 21 pontos. Enquanto o valor na sua mão for menor que 21, o jogador pode tirar quantas cartas quiser. Se ele decide parar de descartar ou soma mais que 21, a mesa pode começar a jogar. Considerando a estratégia descrita em (i), a mesa irá descartar até atingir um valor maior que 16, quando irá parar. Neste momento, usando a descrição feita em (g), é possível determinar o vencedor do jogo. Portanto, o código do jogo pode ser completado pelas seguintes funções em Python:"
   ]
  },
  {
   "cell_type": "code",
   "execution_count": 39,
   "metadata": {},
   "outputs": [],
   "source": [
    "def blackjack():\n",
    "    print('Bem vindo ao jogo de blackjack!')\n",
    "    loopJogo([], dequeEmbaralhado(deque))\n",
    "\n",
    "def loopJogo(mao, deque):\n",
    "    print('Sua mao: [', lista(mao), '] =', valorMao(mao))\n",
    "    if fimJogo(mao):\n",
    "        fim(mao, maoMesa(deque));\n",
    "    else:\n",
    "        resp = raw_input('Quer outra carta? [s] ')\n",
    "    if not resp or resp in ['s', 'S']:\n",
    "        loopJogo(*descartar(mao, deque)) # tupla expandida em 2 argumentos\n",
    "    else:\n",
    "        fim(mao, maoMesa(deque))\n",
    "\n",
    "def fim(maoJogador, maoMesa):\n",
    "    print('Mao da mesa: [', lista(maoMesa), '] =', valorMao(maoMesa))\n",
    "    print('Vencedor:', vencedor(maoJogador, maoMesa))"
   ]
  },
  {
   "cell_type": "markdown",
   "metadata": {},
   "source": [
    "Como você modificaria a função dada em (i) para melhorar a estratégia da mesa?"
   ]
  },
  {
   "cell_type": "code",
   "execution_count": 51,
   "metadata": {},
   "outputs": [
    {
     "data": {
      "text/plain": [
       "[('10', 'e'), ('K', 'p')]"
      ]
     },
     "execution_count": 51,
     "metadata": {},
     "output_type": "execute_result"
    }
   ],
   "source": [
    "maoMesa = lambda l, m=[]: maoMesa(l[1:], m + [l[0]]) if valorMao(m) < 20 else m\n",
    "maoMesa([('10','e'),('K','p'),('6','p'), ('8','o'), ('A','e'), ('6','e')]) "
   ]
  }
 ],
 "metadata": {
  "kernelspec": {
   "display_name": "Python 3",
   "language": "python",
   "name": "python3"
  },
  "language_info": {
   "codemirror_mode": {
    "name": "ipython",
    "version": 3
   },
   "file_extension": ".py",
   "mimetype": "text/x-python",
   "name": "python",
   "nbconvert_exporter": "python",
   "pygments_lexer": "ipython3",
   "version": "3.6.8"
  }
 },
 "nbformat": 4,
 "nbformat_minor": 2
}
